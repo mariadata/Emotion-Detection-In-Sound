{
 "cells": [
  {
   "cell_type": "code",
   "execution_count": 1,
   "metadata": {
    "_cell_guid": "b1076dfc-b9ad-4769-8c92-a6c4dae69d19",
    "_uuid": "8f2839f25d086af736a60e9eeb907d3b93b6e0e5",
    "execution": {
     "iopub.execute_input": "2022-05-03T17:41:30.093395Z",
     "iopub.status.busy": "2022-05-03T17:41:30.093033Z",
     "iopub.status.idle": "2022-05-03T17:41:30.121348Z",
     "shell.execute_reply": "2022-05-03T17:41:30.120725Z",
     "shell.execute_reply.started": "2022-05-03T17:41:30.093297Z"
    }
   },
   "outputs": [],
   "source": [
    "# This Python 3 environment comes with many helpful analytics libraries installed\n",
    "# It is defined by the kaggle/python Docker image: https://github.com/kaggle/docker-python\n",
    "# For example, here's several helpful packages to load\n",
    "\n",
    "#import numpy as np # linear algebra\n",
    "#import pandas as pd # data processing, CSV file I/O (e.g. pd.read_csv)\n",
    "\n",
    "# Input data files are available in the read-only \"../input/\" directory\n",
    "# For example, running this (by clicking run or pressing Shift+Enter) will list all files under the input directory\n",
    "\n",
    "#import os\n",
    "#for dirname, _, filenames in os.walk('/kaggle/input'):\n",
    " #   for filename in filenames:\n",
    "  #      print(os.path.join(dirname, filename))\n",
    "\n",
    "# You can write up to 20GB to the current directory (/kaggle/working/) that gets preserved as output when you create a version using \"Save & Run All\" \n",
    "# You can also write temporary files to /kaggle/temp/, but they won't be saved outside of the current session"
   ]
  },
  {
   "cell_type": "code",
   "execution_count": null,
   "metadata": {},
   "outputs": [],
   "source": [
    "import os \n",
    "import numpy as np \n",
    "import pandas as pd \n",
    "import seaborn as sns \n",
    "import matplotlib.pyplot as plt \n",
    "import librosa   #librairie qui traite les audios\n",
    "import librosa.display \n",
    "from IPython.display import Audio \n",
    "import warnings \n",
    "warnings.filterwarnings('ignore')  #ignorer les warnings \n",
    "\n"
   ]
  },
  {
   "cell_type": "markdown",
   "metadata": {},
   "source": [
    "# Chargement des données"
   ]
  },
  {
   "cell_type": "code",
   "execution_count": 2,
   "metadata": {
    "execution": {
     "iopub.execute_input": "2022-05-03T19:57:20.219027Z",
     "iopub.status.busy": "2022-05-03T19:57:20.218738Z",
     "iopub.status.idle": "2022-05-03T19:57:20.842896Z",
     "shell.execute_reply": "2022-05-03T19:57:20.842110Z",
     "shell.execute_reply.started": "2022-05-03T19:57:20.218990Z"
    }
   },
   "outputs": [],
   "source": [
    "#Charger la dataset TESS \n",
    "paths  = []\n",
    "labels = [] \n",
    "for dirname, _, filenames in os.walk('/kaggle/input'):\n",
    "    for filename in filenames:\n",
    "        paths.append(os.path.join(dirname, filename))\n",
    "        label = filename.split('_')[-1]\n",
    "        print(label)\n",
    "        label = label.split('.')[0]\n",
    "        print(label)\n",
    "        labels.append(label.lower())\n",
    "    if len(paths) == 2800 :\n",
    "        break\n",
    "print('Chargement de la dataset terminé')\n",
    "len(paths)"
   ]
  },
  {
   "cell_type": "code",
   "execution_count": 3,
   "metadata": {
    "execution": {
     "iopub.execute_input": "2022-05-03T19:57:23.512846Z",
     "iopub.status.busy": "2022-05-03T19:57:23.511928Z",
     "iopub.status.idle": "2022-05-03T19:57:23.518645Z",
     "shell.execute_reply": "2022-05-03T19:57:23.517809Z",
     "shell.execute_reply.started": "2022-05-03T19:57:23.512798Z"
    }
   },
   "outputs": [],
   "source": [
    "paths[:5]"
   ]
  },
  {
   "cell_type": "code",
   "execution_count": 4,
   "metadata": {
    "execution": {
     "iopub.execute_input": "2022-05-03T19:57:25.576426Z",
     "iopub.status.busy": "2022-05-03T19:57:25.575604Z",
     "iopub.status.idle": "2022-05-03T19:57:25.582297Z",
     "shell.execute_reply": "2022-05-03T19:57:25.581619Z",
     "shell.execute_reply.started": "2022-05-03T19:57:25.576381Z"
    }
   },
   "outputs": [],
   "source": [
    "labels[:5]"
   ]
  },
  {
   "cell_type": "code",
   "execution_count": 79,
   "metadata": {
    "execution": {
     "iopub.execute_input": "2022-05-03T21:04:32.368544Z",
     "iopub.status.busy": "2022-05-03T21:04:32.368280Z",
     "iopub.status.idle": "2022-05-03T21:04:32.378405Z",
     "shell.execute_reply": "2022-05-03T21:04:32.377723Z",
     "shell.execute_reply.started": "2022-05-03T21:04:32.368515Z"
    }
   },
   "outputs": [],
   "source": [
    "df = pd.DataFrame()\n",
    "df['son'] = paths\n",
    "df['label'] = labels \n",
    "df.head()\n",
    "len(df)"
   ]
  },
  {
   "cell_type": "markdown",
   "metadata": {},
   "source": [
    "# Exploration de données "
   ]
  },
  {
   "cell_type": "code",
   "execution_count": 80,
   "metadata": {
    "execution": {
     "iopub.execute_input": "2022-05-03T21:04:35.341414Z",
     "iopub.status.busy": "2022-05-03T21:04:35.340815Z",
     "iopub.status.idle": "2022-05-03T21:04:35.349219Z",
     "shell.execute_reply": "2022-05-03T21:04:35.348439Z",
     "shell.execute_reply.started": "2022-05-03T21:04:35.341373Z"
    }
   },
   "outputs": [],
   "source": [
    "df['label'].value_counts()"
   ]
  },
  {
   "cell_type": "code",
   "execution_count": 8,
   "metadata": {
    "execution": {
     "iopub.execute_input": "2022-05-03T19:57:35.340994Z",
     "iopub.status.busy": "2022-05-03T19:57:35.340712Z",
     "iopub.status.idle": "2022-05-03T19:57:35.587650Z",
     "shell.execute_reply": "2022-05-03T19:57:35.586938Z",
     "shell.execute_reply.started": "2022-05-03T19:57:35.340961Z"
    }
   },
   "outputs": [],
   "source": [
    "sns.countplot(df['label'])"
   ]
  },
  {
   "cell_type": "code",
   "execution_count": 9,
   "metadata": {
    "execution": {
     "iopub.execute_input": "2022-05-03T19:57:37.724022Z",
     "iopub.status.busy": "2022-05-03T19:57:37.723525Z",
     "iopub.status.idle": "2022-05-03T19:57:37.728486Z",
     "shell.execute_reply": "2022-05-03T19:57:37.727882Z",
     "shell.execute_reply.started": "2022-05-03T19:57:37.723984Z"
    }
   },
   "outputs": [],
   "source": [
    "def waveplot(data, sr, emotion):\n",
    "    plt.figure(figsize=(10,4))\n",
    "    plt.title(emotion, size=20)\n",
    "    librosa.display.waveshow(data,sr=sr)\n",
    "    plt.show()"
   ]
  },
  {
   "cell_type": "code",
   "execution_count": 10,
   "metadata": {
    "execution": {
     "iopub.execute_input": "2022-05-03T19:57:39.393342Z",
     "iopub.status.busy": "2022-05-03T19:57:39.393082Z",
     "iopub.status.idle": "2022-05-03T19:57:39.398746Z",
     "shell.execute_reply": "2022-05-03T19:57:39.398045Z",
     "shell.execute_reply.started": "2022-05-03T19:57:39.393313Z"
    }
   },
   "outputs": [],
   "source": [
    "def spectogram(data, sr, emotion):\n",
    "    x = librosa.stft(data)\n",
    "    xdb = librosa.amplitude_to_db(abs(x))\n",
    "    plt.figure(figsize=(10,4))\n",
    "    plt.title(emotion, size=20)\n",
    "    librosa.display.specshow(xdb, sr=sr, x_axis='time', y_axis='hz')\n",
    "    plt.colorbar()"
   ]
  },
  {
   "cell_type": "code",
   "execution_count": 11,
   "metadata": {
    "execution": {
     "iopub.execute_input": "2022-05-03T19:57:41.151518Z",
     "iopub.status.busy": "2022-05-03T19:57:41.150871Z",
     "iopub.status.idle": "2022-05-03T19:57:42.619929Z",
     "shell.execute_reply": "2022-05-03T19:57:42.618689Z",
     "shell.execute_reply.started": "2022-05-03T19:57:41.151479Z"
    }
   },
   "outputs": [],
   "source": [
    "emotion = 'fear'\n",
    "path = np.array(df['son'][df['label']==emotion])[0]\n",
    "data, sampling_rate = librosa.load(path)\n",
    "waveplot(data, sampling_rate, emotion)\n",
    "spectogram(data, sampling_rate, emotion)\n",
    "Audio(path)"
   ]
  },
  {
   "cell_type": "code",
   "execution_count": 12,
   "metadata": {
    "execution": {
     "iopub.execute_input": "2022-05-03T19:57:49.276770Z",
     "iopub.status.busy": "2022-05-03T19:57:49.276262Z",
     "iopub.status.idle": "2022-05-03T19:57:50.137023Z",
     "shell.execute_reply": "2022-05-03T19:57:50.136381Z",
     "shell.execute_reply.started": "2022-05-03T19:57:49.276732Z"
    }
   },
   "outputs": [],
   "source": [
    "emotion = 'angry'\n",
    "path = np.array(df['son'][df['label']==emotion])[1]\n",
    "data, sampling_rate = librosa.load(path)\n",
    "waveplot(data, sampling_rate, emotion)\n",
    "spectogram(data, sampling_rate, emotion)\n",
    "Audio(path)"
   ]
  },
  {
   "cell_type": "code",
   "execution_count": 13,
   "metadata": {
    "execution": {
     "iopub.execute_input": "2022-05-03T19:57:52.574351Z",
     "iopub.status.busy": "2022-05-03T19:57:52.573401Z",
     "iopub.status.idle": "2022-05-03T19:57:53.366924Z",
     "shell.execute_reply": "2022-05-03T19:57:53.366239Z",
     "shell.execute_reply.started": "2022-05-03T19:57:52.574303Z"
    }
   },
   "outputs": [],
   "source": [
    "emotion = 'disgust'\n",
    "path = np.array(df['son'][df['label']==emotion])[0]\n",
    "data, sampling_rate = librosa.load(path)\n",
    "waveplot(data, sampling_rate, emotion)\n",
    "spectogram(data, sampling_rate, emotion)\n",
    "Audio(path)"
   ]
  },
  {
   "cell_type": "code",
   "execution_count": 14,
   "metadata": {
    "execution": {
     "iopub.execute_input": "2022-05-03T19:57:57.606417Z",
     "iopub.status.busy": "2022-05-03T19:57:57.606141Z",
     "iopub.status.idle": "2022-05-03T19:57:58.372630Z",
     "shell.execute_reply": "2022-05-03T19:57:58.371829Z",
     "shell.execute_reply.started": "2022-05-03T19:57:57.606387Z"
    }
   },
   "outputs": [],
   "source": [
    "emotion = 'neutral'\n",
    "path = np.array(df['son'][df['label']==emotion])[0]\n",
    "data, sampling_rate = librosa.load(path)\n",
    "waveplot(data, sampling_rate, emotion)\n",
    "spectogram(data, sampling_rate, emotion)\n",
    "Audio(path)"
   ]
  },
  {
   "cell_type": "code",
   "execution_count": 15,
   "metadata": {
    "execution": {
     "iopub.execute_input": "2022-05-03T19:58:04.927743Z",
     "iopub.status.busy": "2022-05-03T19:58:04.927480Z",
     "iopub.status.idle": "2022-05-03T19:58:05.702584Z",
     "shell.execute_reply": "2022-05-03T19:58:05.701944Z",
     "shell.execute_reply.started": "2022-05-03T19:58:04.927715Z"
    }
   },
   "outputs": [],
   "source": [
    "emotion = 'sad'\n",
    "path = np.array(df['son'][df['label']==emotion])[0]\n",
    "data, sampling_rate = librosa.load(path)\n",
    "waveplot(data, sampling_rate, emotion)\n",
    "spectogram(data, sampling_rate, emotion)\n",
    "Audio(path)"
   ]
  },
  {
   "cell_type": "code",
   "execution_count": 16,
   "metadata": {
    "execution": {
     "iopub.execute_input": "2022-05-03T19:58:12.302599Z",
     "iopub.status.busy": "2022-05-03T19:58:12.302033Z",
     "iopub.status.idle": "2022-05-03T19:58:13.074642Z",
     "shell.execute_reply": "2022-05-03T19:58:13.073894Z",
     "shell.execute_reply.started": "2022-05-03T19:58:12.302557Z"
    }
   },
   "outputs": [],
   "source": [
    "emotion = 'ps'  #ps = pleasant surprise\n",
    "path = np.array(df['son'][df['label']==emotion])[0]\n",
    "data, sampling_rate = librosa.load(path)\n",
    "waveplot(data, sampling_rate, emotion)\n",
    "spectogram(data, sampling_rate, emotion)\n",
    "Audio(path)"
   ]
  },
  {
   "cell_type": "code",
   "execution_count": 17,
   "metadata": {
    "execution": {
     "iopub.execute_input": "2022-05-03T19:58:17.559559Z",
     "iopub.status.busy": "2022-05-03T19:58:17.558979Z",
     "iopub.status.idle": "2022-05-03T19:58:18.342239Z",
     "shell.execute_reply": "2022-05-03T19:58:18.341524Z",
     "shell.execute_reply.started": "2022-05-03T19:58:17.559518Z"
    }
   },
   "outputs": [],
   "source": [
    "emotion = 'happy'\n",
    "path = np.array(df['son'][df['label']==emotion])[0]\n",
    "data, sampling_rate = librosa.load(path)\n",
    "waveplot(data, sampling_rate, emotion)\n",
    "spectogram(data, sampling_rate, emotion)\n",
    "Audio(path)"
   ]
  },
  {
   "cell_type": "markdown",
   "metadata": {},
   "source": [
    "# Préparation des données  "
   ]
  },
  {
   "cell_type": "code",
   "execution_count": 18,
   "metadata": {
    "execution": {
     "iopub.execute_input": "2022-05-03T19:58:27.666752Z",
     "iopub.status.busy": "2022-05-03T19:58:27.666176Z",
     "iopub.status.idle": "2022-05-03T19:58:27.671563Z",
     "shell.execute_reply": "2022-05-03T19:58:27.670856Z",
     "shell.execute_reply.started": "2022-05-03T19:58:27.666711Z"
    }
   },
   "outputs": [],
   "source": [
    "def extract_mfcc(filename):\n",
    "    y, sr = librosa.load(filename, duration=3, offset=0.5)\n",
    "    mfcc = np.mean(librosa.feature.mfcc(y=y, sr=sr, n_mfcc=40).T, axis=0)\n",
    "    return mfcc"
   ]
  },
  {
   "cell_type": "code",
   "execution_count": 19,
   "metadata": {
    "execution": {
     "iopub.execute_input": "2022-05-03T19:58:35.931844Z",
     "iopub.status.busy": "2022-05-03T19:58:35.929778Z",
     "iopub.status.idle": "2022-05-03T19:58:35.978078Z",
     "shell.execute_reply": "2022-05-03T19:58:35.977165Z",
     "shell.execute_reply.started": "2022-05-03T19:58:35.931810Z"
    }
   },
   "outputs": [],
   "source": [
    "extract_mfcc(df['son'][0])  "
   ]
  },
  {
   "cell_type": "code",
   "execution_count": 81,
   "metadata": {
    "execution": {
     "iopub.execute_input": "2022-05-03T21:04:46.600971Z",
     "iopub.status.busy": "2022-05-03T21:04:46.600690Z",
     "iopub.status.idle": "2022-05-03T21:08:33.730842Z",
     "shell.execute_reply": "2022-05-03T21:08:33.729939Z",
     "shell.execute_reply.started": "2022-05-03T21:04:46.600939Z"
    }
   },
   "outputs": [],
   "source": [
    "X_mfcc = df['son'].apply(lambda x: extract_mfcc(x))"
   ]
  },
  {
   "cell_type": "code",
   "execution_count": 82,
   "metadata": {
    "execution": {
     "iopub.execute_input": "2022-05-03T21:11:12.103722Z",
     "iopub.status.busy": "2022-05-03T21:11:12.103246Z",
     "iopub.status.idle": "2022-05-03T21:11:12.116190Z",
     "shell.execute_reply": "2022-05-03T21:11:12.115390Z",
     "shell.execute_reply.started": "2022-05-03T21:11:12.103685Z"
    }
   },
   "outputs": [],
   "source": [
    "X_mfcc"
   ]
  },
  {
   "cell_type": "markdown",
   "metadata": {
    "execution": {
     "iopub.execute_input": "2022-05-03T21:01:01.080655Z",
     "iopub.status.busy": "2022-05-03T21:01:01.080379Z",
     "iopub.status.idle": "2022-05-03T21:01:01.085489Z",
     "shell.execute_reply": "2022-05-03T21:01:01.084544Z",
     "shell.execute_reply.started": "2022-05-03T21:01:01.080625Z"
    }
   },
   "source": [
    "## Préparation pour le modèle LSTM"
   ]
  },
  {
   "cell_type": "code",
   "execution_count": 83,
   "metadata": {
    "execution": {
     "iopub.execute_input": "2022-05-03T21:11:17.104152Z",
     "iopub.status.busy": "2022-05-03T21:11:17.103828Z",
     "iopub.status.idle": "2022-05-03T21:11:17.114176Z",
     "shell.execute_reply": "2022-05-03T21:11:17.113282Z",
     "shell.execute_reply.started": "2022-05-03T21:11:17.104116Z"
    }
   },
   "outputs": [],
   "source": [
    "X = [x for x in X_mfcc]\n",
    "X = np.array(X) \n",
    "X.shape"
   ]
  },
  {
   "cell_type": "code",
   "execution_count": 84,
   "metadata": {
    "execution": {
     "iopub.execute_input": "2022-05-03T21:11:18.784646Z",
     "iopub.status.busy": "2022-05-03T21:11:18.784361Z",
     "iopub.status.idle": "2022-05-03T21:11:18.790532Z",
     "shell.execute_reply": "2022-05-03T21:11:18.789532Z",
     "shell.execute_reply.started": "2022-05-03T21:11:18.784616Z"
    }
   },
   "outputs": [],
   "source": [
    "X = np.expand_dims(X, -1)\n",
    "X.shape"
   ]
  },
  {
   "cell_type": "code",
   "execution_count": 87,
   "metadata": {
    "execution": {
     "iopub.execute_input": "2022-05-03T21:11:38.698640Z",
     "iopub.status.busy": "2022-05-03T21:11:38.697843Z",
     "iopub.status.idle": "2022-05-03T21:11:38.709648Z",
     "shell.execute_reply": "2022-05-03T21:11:38.708524Z",
     "shell.execute_reply.started": "2022-05-03T21:11:38.698587Z"
    }
   },
   "outputs": [],
   "source": [
    "enc = OneHotEncoder()\n",
    "y = enc.fit_transform(df[['label']]).toarray() \n",
    "y"
   ]
  },
  {
   "cell_type": "code",
   "execution_count": 88,
   "metadata": {
    "execution": {
     "iopub.execute_input": "2022-05-03T21:11:46.434011Z",
     "iopub.status.busy": "2022-05-03T21:11:46.433425Z",
     "iopub.status.idle": "2022-05-03T21:11:46.438960Z",
     "shell.execute_reply": "2022-05-03T21:11:46.438299Z",
     "shell.execute_reply.started": "2022-05-03T21:11:46.433973Z"
    }
   },
   "outputs": [],
   "source": [
    "y.shape"
   ]
  },
  {
   "cell_type": "markdown",
   "metadata": {},
   "source": [
    "## Préparation pour le modèle CNN "
   ]
  },
  {
   "cell_type": "code",
   "execution_count": 51,
   "metadata": {
    "execution": {
     "iopub.execute_input": "2022-05-03T20:38:39.676192Z",
     "iopub.status.busy": "2022-05-03T20:38:39.675763Z",
     "iopub.status.idle": "2022-05-03T20:38:39.687516Z",
     "shell.execute_reply": "2022-05-03T20:38:39.686454Z",
     "shell.execute_reply.started": "2022-05-03T20:38:39.676152Z"
    }
   },
   "outputs": [],
   "source": [
    "from sklearn.preprocessing import OneHotEncoder, StandardScaler\n",
    "encoder = OneHotEncoder()\n",
    "y = encoder.fit_transform(df[['label']]).toarray()\n",
    "len(y)"
   ]
  },
  {
   "cell_type": "code",
   "execution_count": 52,
   "metadata": {
    "execution": {
     "iopub.execute_input": "2022-05-03T20:38:43.111823Z",
     "iopub.status.busy": "2022-05-03T20:38:43.111124Z",
     "iopub.status.idle": "2022-05-03T20:38:43.120979Z",
     "shell.execute_reply": "2022-05-03T20:38:43.120093Z",
     "shell.execute_reply.started": "2022-05-03T20:38:43.111785Z"
    }
   },
   "outputs": [],
   "source": [
    "from sklearn.model_selection import train_test_split\n",
    "x_train, x_test, y_train, y_test = train_test_split(X, y, random_state=0, shuffle=True)    \n",
    "x_train.shape, y_train.shape, x_test.shape, y_test.shape"
   ]
  },
  {
   "cell_type": "code",
   "execution_count": 53,
   "metadata": {
    "execution": {
     "iopub.execute_input": "2022-05-03T20:39:08.553896Z",
     "iopub.status.busy": "2022-05-03T20:39:08.553487Z",
     "iopub.status.idle": "2022-05-03T20:39:08.574949Z",
     "shell.execute_reply": "2022-05-03T20:39:08.574215Z",
     "shell.execute_reply.started": "2022-05-03T20:39:08.553855Z"
    }
   },
   "outputs": [],
   "source": [
    "scaler = StandardScaler()\n",
    "x_train = scaler.fit_transform(x_train)\n",
    "x_test = scaler.transform(x_test)\n",
    "x_train.shape, y_train.shape, x_test.shape, y_test.shape"
   ]
  },
  {
   "cell_type": "code",
   "execution_count": 54,
   "metadata": {
    "execution": {
     "iopub.execute_input": "2022-05-03T20:39:31.134647Z",
     "iopub.status.busy": "2022-05-03T20:39:31.134007Z",
     "iopub.status.idle": "2022-05-03T20:39:31.140520Z",
     "shell.execute_reply": "2022-05-03T20:39:31.139660Z",
     "shell.execute_reply.started": "2022-05-03T20:39:31.134611Z"
    }
   },
   "outputs": [],
   "source": [
    "x_train = np.expand_dims(x_train, axis=2)\n",
    "x_test = np.expand_dims(x_test, axis=2)\n",
    "x_train.shape, y_train.shape, x_test.shape, y_test.shape"
   ]
  },
  {
   "cell_type": "markdown",
   "metadata": {
    "execution": {
     "iopub.execute_input": "2022-05-03T21:26:39.857562Z",
     "iopub.status.busy": "2022-05-03T21:26:39.856875Z",
     "iopub.status.idle": "2022-05-03T21:26:39.860687Z",
     "shell.execute_reply": "2022-05-03T21:26:39.859999Z",
     "shell.execute_reply.started": "2022-05-03T21:26:39.857522Z"
    }
   },
   "source": [
    "# Modélisation "
   ]
  },
  {
   "cell_type": "markdown",
   "metadata": {},
   "source": [
    "## Modèle CNN "
   ]
  },
  {
   "cell_type": "code",
   "execution_count": 55,
   "metadata": {
    "execution": {
     "iopub.execute_input": "2022-05-03T20:40:36.504994Z",
     "iopub.status.busy": "2022-05-03T20:40:36.504447Z",
     "iopub.status.idle": "2022-05-03T20:40:41.234045Z",
     "shell.execute_reply": "2022-05-03T20:40:41.233287Z",
     "shell.execute_reply.started": "2022-05-03T20:40:36.504956Z"
    }
   },
   "outputs": [],
   "source": [
    "from keras.models import Sequential\n",
    "from keras.layers import Dense, Conv1D, MaxPooling1D, Flatten, Dropout, BatchNormalization\n",
    "from keras.callbacks import ModelCheckpoint"
   ]
  },
  {
   "cell_type": "code",
   "execution_count": 56,
   "metadata": {
    "execution": {
     "iopub.execute_input": "2022-05-03T20:41:08.905157Z",
     "iopub.status.busy": "2022-05-03T20:41:08.904877Z",
     "iopub.status.idle": "2022-05-03T20:41:11.343807Z",
     "shell.execute_reply": "2022-05-03T20:41:11.343159Z",
     "shell.execute_reply.started": "2022-05-03T20:41:08.905125Z"
    }
   },
   "outputs": [],
   "source": [
    "model_cnn=Sequential()\n",
    "model_cnn.add(Conv1D(256, kernel_size=5, strides=1, padding='same', activation='relu', input_shape=(40, 1)))\n",
    "model_cnn.add(MaxPooling1D(pool_size=5, strides = 2, padding = 'same'))\n",
    "\n",
    "model_cnn.add(Conv1D(256, kernel_size=5, strides=1, padding='same', activation='relu'))\n",
    "model_cnn.add(MaxPooling1D(pool_size=5, strides = 2, padding = 'same'))\n",
    "\n",
    "model_cnn.add(Conv1D(128, kernel_size=5, strides=1, padding='same', activation='relu'))\n",
    "model_cnn.add(MaxPooling1D(pool_size=5, strides = 2, padding = 'same'))\n",
    "model_cnn.add(Dropout(0.2))\n",
    "\n",
    "model_cnn.add(Conv1D(64, kernel_size=5, strides=1, padding='same', activation='relu'))\n",
    "model_cnn.add(MaxPooling1D(pool_size=5, strides = 2, padding = 'same'))\n",
    "\n",
    "model_cnn.add(Flatten())\n",
    "model_cnn.add(Dense(units=32, activation='relu'))\n",
    "model_cnn.add(Dropout(0.3))\n",
    "\n",
    "model_cnn.add(Dense(units=7, activation='softmax'))\n",
    "model_cnn.compile(optimizer = 'adam' , loss = 'categorical_crossentropy' , metrics = ['accuracy'])\n",
    "\n",
    "model_cnn.summary()"
   ]
  },
  {
   "cell_type": "code",
   "execution_count": 58,
   "metadata": {
    "execution": {
     "iopub.execute_input": "2022-05-03T20:42:08.449141Z",
     "iopub.status.busy": "2022-05-03T20:42:08.448853Z",
     "iopub.status.idle": "2022-05-03T20:42:26.566564Z",
     "shell.execute_reply": "2022-05-03T20:42:26.565018Z",
     "shell.execute_reply.started": "2022-05-03T20:42:08.449107Z"
    }
   },
   "outputs": [],
   "source": [
    "from keras.callbacks import ReduceLROnPlateau\n",
    "\n",
    "rlrp = ReduceLROnPlateau(monitor='loss', factor=0.4, verbose=0, patience=2, min_lr=0.0000001)\n",
    "history=model_cnn.fit(x_train, y_train, batch_size=64, epochs=50, validation_data=(x_test, y_test), callbacks=[rlrp])"
   ]
  },
  {
   "cell_type": "code",
   "execution_count": 61,
   "metadata": {
    "execution": {
     "iopub.execute_input": "2022-05-03T20:43:54.103143Z",
     "iopub.status.busy": "2022-05-03T20:43:54.102857Z",
     "iopub.status.idle": "2022-05-03T20:43:54.544421Z",
     "shell.execute_reply": "2022-05-03T20:43:54.543764Z",
     "shell.execute_reply.started": "2022-05-03T20:43:54.103112Z"
    }
   },
   "outputs": [],
   "source": [
    "print(\"Accuracy de notre modèle sur la test set : \" , model_cnn.evaluate(x_test,y_test)[1]*100 , \"%\")\n",
    "\n",
    "epochs = [i for i in range(50)]\n",
    "fig , ax = plt.subplots(1,2)\n",
    "train_acc = history.history['accuracy']\n",
    "train_loss = history.history['loss']\n",
    "test_acc = history.history['val_accuracy']\n",
    "test_loss = history.history['val_loss']\n",
    "\n",
    "fig.set_size_inches(20,6)\n",
    "ax[0].plot(epochs , train_loss , label = 'Loss du Training')\n",
    "ax[0].plot(epochs , test_loss , label = 'Loss du Testing')\n",
    "ax[0].set_title('Loss du Training & Testing')\n",
    "ax[0].legend()\n",
    "ax[0].set_xlabel(\"Epochs\")\n",
    "\n",
    "ax[1].plot(epochs , train_acc , label = 'Accuracy du Training')      \n",
    "ax[1].plot(epochs , test_acc , label = 'Accuracy du Testing')\n",
    "ax[1].set_title('Accuracy du Training & Testing')\n",
    "ax[1].legend()\n",
    "ax[1].set_xlabel(\"Epochs\")\n",
    "plt.show()"
   ]
  },
  {
   "cell_type": "code",
   "execution_count": 62,
   "metadata": {
    "execution": {
     "iopub.execute_input": "2022-05-03T20:44:55.823849Z",
     "iopub.status.busy": "2022-05-03T20:44:55.823552Z",
     "iopub.status.idle": "2022-05-03T20:44:56.003019Z",
     "shell.execute_reply": "2022-05-03T20:44:56.002291Z",
     "shell.execute_reply.started": "2022-05-03T20:44:55.823821Z"
    }
   },
   "outputs": [],
   "source": [
    "pred_test = model_cnn.predict(x_test)\n",
    "y_pred = encoder.inverse_transform(pred_test)\n",
    "\n",
    "y_test = encoder.inverse_transform(y_test)"
   ]
  },
  {
   "cell_type": "code",
   "execution_count": 63,
   "metadata": {
    "execution": {
     "iopub.execute_input": "2022-05-03T20:45:54.683234Z",
     "iopub.status.busy": "2022-05-03T20:45:54.682952Z",
     "iopub.status.idle": "2022-05-03T20:45:54.701567Z",
     "shell.execute_reply": "2022-05-03T20:45:54.700710Z",
     "shell.execute_reply.started": "2022-05-03T20:45:54.683203Z"
    }
   },
   "outputs": [],
   "source": [
    "df = pd.DataFrame(columns=['Labels prédits', 'Labels réels'])\n",
    "df['Labels prédits'] = y_pred.flatten()\n",
    "df['Labels réels'] = y_test.flatten()\n",
    "\n",
    "df.head(10)"
   ]
  },
  {
   "cell_type": "code",
   "execution_count": 65,
   "metadata": {
    "execution": {
     "iopub.execute_input": "2022-05-03T20:47:13.640595Z",
     "iopub.status.busy": "2022-05-03T20:47:13.640325Z",
     "iopub.status.idle": "2022-05-03T20:47:14.057797Z",
     "shell.execute_reply": "2022-05-03T20:47:14.057094Z",
     "shell.execute_reply.started": "2022-05-03T20:47:13.640557Z"
    }
   },
   "outputs": [],
   "source": [
    "from sklearn.metrics import confusion_matrix, classification_report\n",
    "\n",
    "cm = confusion_matrix(y_test, y_pred)\n",
    "plt.figure(figsize = (12, 10))\n",
    "cm = pd.DataFrame(cm , index = [i for i in encoder.categories_] , columns = [i for i in encoder.categories_])\n",
    "sns.heatmap(cm, linecolor='white', cmap='Blues', linewidth=1, annot=True, fmt='')\n",
    "plt.title('Matrice de confusion', size=20)\n",
    "plt.xlabel('Labels prédits', size=14)\n",
    "plt.ylabel('Labels réels', size=14)\n",
    "plt.show()"
   ]
  },
  {
   "cell_type": "code",
   "execution_count": 66,
   "metadata": {
    "execution": {
     "iopub.execute_input": "2022-05-03T20:49:15.564706Z",
     "iopub.status.busy": "2022-05-03T20:49:15.563963Z",
     "iopub.status.idle": "2022-05-03T20:49:15.601496Z",
     "shell.execute_reply": "2022-05-03T20:49:15.600723Z",
     "shell.execute_reply.started": "2022-05-03T20:49:15.564669Z"
    }
   },
   "outputs": [],
   "source": [
    "print(classification_report(y_test, y_pred))"
   ]
  },
  {
   "cell_type": "markdown",
   "metadata": {},
   "source": [
    "## Modèle LSTM "
   ]
  },
  {
   "cell_type": "code",
   "execution_count": 89,
   "metadata": {
    "execution": {
     "iopub.execute_input": "2022-05-03T21:12:06.023488Z",
     "iopub.status.busy": "2022-05-03T21:12:06.022922Z",
     "iopub.status.idle": "2022-05-03T21:12:06.282515Z",
     "shell.execute_reply": "2022-05-03T21:12:06.281734Z",
     "shell.execute_reply.started": "2022-05-03T21:12:06.023448Z"
    }
   },
   "outputs": [],
   "source": [
    "from keras.models import Sequential\n",
    "from keras.layers import Dense, LSTM, Dropout\n",
    "\n",
    "model_lstm = Sequential([\n",
    "    LSTM(256, return_sequences=False, input_shape=(40,1)),\n",
    "    Dropout(0.2),\n",
    "    Dense(128, activation='relu'),\n",
    "    Dropout(0.2),\n",
    "    Dense(64, activation='relu'),\n",
    "    Dropout(0.2),\n",
    "    Dense(7, activation='softmax')\n",
    "])\n",
    "\n",
    "model_lstm.compile(loss='categorical_crossentropy', optimizer='adam', metrics=['accuracy'])\n",
    "model_lstm.summary()"
   ]
  },
  {
   "cell_type": "code",
   "execution_count": 90,
   "metadata": {
    "execution": {
     "iopub.execute_input": "2022-05-03T21:12:11.315832Z",
     "iopub.status.busy": "2022-05-03T21:12:11.315567Z",
     "iopub.status.idle": "2022-05-03T21:12:32.965113Z",
     "shell.execute_reply": "2022-05-03T21:12:32.964324Z",
     "shell.execute_reply.started": "2022-05-03T21:12:11.315801Z"
    }
   },
   "outputs": [],
   "source": [
    "model_lstm = model_lstm.fit(X, y, validation_split=0.2, epochs=50, batch_size=64)   # 0.8 -> train set -> 2240 , 0.2 -> validation set  -> 560 \n"
   ]
  },
  {
   "cell_type": "code",
   "execution_count": 92,
   "metadata": {
    "execution": {
     "iopub.execute_input": "2022-05-03T21:15:47.973361Z",
     "iopub.status.busy": "2022-05-03T21:15:47.972691Z",
     "iopub.status.idle": "2022-05-03T21:15:48.168625Z",
     "shell.execute_reply": "2022-05-03T21:15:48.167864Z",
     "shell.execute_reply.started": "2022-05-03T21:15:47.973324Z"
    }
   },
   "outputs": [],
   "source": [
    "epochs = list(range(50))\n",
    "acc = model_lstm.history['accuracy']\n",
    "val_acc = model_lstm.history['val_accuracy']\n",
    "\n",
    "plt.plot(epochs, acc, label='Accuracy du Training')\n",
    "plt.plot(epochs, val_acc, label='Accuracy de la Validation')\n",
    "plt.xlabel('epochs')\n",
    "plt.ylabel('accuracy')\n",
    "plt.legend()\n",
    "plt.show()"
   ]
  },
  {
   "cell_type": "code",
   "execution_count": 93,
   "metadata": {
    "execution": {
     "iopub.execute_input": "2022-05-03T21:16:01.895710Z",
     "iopub.status.busy": "2022-05-03T21:16:01.895442Z",
     "iopub.status.idle": "2022-05-03T21:16:02.088319Z",
     "shell.execute_reply": "2022-05-03T21:16:02.087634Z",
     "shell.execute_reply.started": "2022-05-03T21:16:01.895680Z"
    }
   },
   "outputs": [],
   "source": [
    "loss = model_lstm.history['loss']\n",
    "val_loss = model_lstm.history['val_loss']\n",
    "\n",
    "plt.plot(epochs, loss, label='Loss du Training')\n",
    "plt.plot(epochs, val_loss, label='Loss de la Validation')\n",
    "plt.xlabel('epochs')\n",
    "plt.ylabel('loss')\n",
    "plt.legend()\n",
    "plt.show()"
   ]
  },
  {
   "cell_type": "code",
   "execution_count": null,
   "metadata": {},
   "outputs": [],
   "source": []
  }
 ],
 "metadata": {
  "kernelspec": {
   "display_name": "Python 3",
   "language": "python",
   "name": "python3"
  },
  "language_info": {
   "codemirror_mode": {
    "name": "ipython",
    "version": 3
   },
   "file_extension": ".py",
   "mimetype": "text/x-python",
   "name": "python",
   "nbconvert_exporter": "python",
   "pygments_lexer": "ipython3",
   "version": "3.7.6"
  }
 },
 "nbformat": 4,
 "nbformat_minor": 4
}
